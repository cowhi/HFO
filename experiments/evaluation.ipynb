{
 "cells": [
  {
   "cell_type": "code",
   "execution_count": 3,
   "metadata": {
    "collapsed": true
   },
   "outputs": [],
   "source": [
    "from hfo import *"
   ]
  },
  {
   "cell_type": "code",
   "execution_count": 2,
   "metadata": {
    "collapsed": false
   },
   "outputs": [
    {
     "data": {
      "text/plain": [
       "['ARRAY',\n",
       " 'ArgumentError',\n",
       " 'Array',\n",
       " 'BigEndianStructure',\n",
       " 'CAPTURED_BY_DEFENSE',\n",
       " 'CATCH',\n",
       " 'CDLL',\n",
       " 'CFUNCTYPE',\n",
       " 'DASH',\n",
       " 'DEFAULT_MODE',\n",
       " 'DRIBBLE',\n",
       " 'DRIBBLE_TO',\n",
       " 'GOAL',\n",
       " 'HFOEnvironment',\n",
       " 'HIGH_LEVEL_FEATURE_SET',\n",
       " 'INTERCEPT',\n",
       " 'IN_GAME',\n",
       " 'KICK',\n",
       " 'KICK_TO',\n",
       " 'LEFT',\n",
       " 'LOW_LEVEL_FEATURE_SET',\n",
       " 'LibraryLoader',\n",
       " 'LittleEndianStructure',\n",
       " 'MOVE',\n",
       " 'MOVE_TO',\n",
       " 'NEUTRAL',\n",
       " 'NOOP',\n",
       " 'OUT_OF_BOUNDS',\n",
       " 'OUT_OF_TIME',\n",
       " 'PASS',\n",
       " 'POINTER',\n",
       " 'PYFUNCTYPE',\n",
       " 'Player',\n",
       " 'PyDLL',\n",
       " 'QUIT',\n",
       " 'RIGHT',\n",
       " 'RTLD_GLOBAL',\n",
       " 'RTLD_LOCAL',\n",
       " 'SERVER_DOWN',\n",
       " 'SHOOT',\n",
       " 'SetPointerType',\n",
       " 'Structure',\n",
       " 'TACKLE',\n",
       " 'TURN',\n",
       " 'Union',\n",
       " '__builtins__',\n",
       " '__doc__',\n",
       " '__file__',\n",
       " '__name__',\n",
       " '__package__',\n",
       " '__path__',\n",
       " 'addressof',\n",
       " 'alignment',\n",
       " 'as_ctypes',\n",
       " 'byref',\n",
       " 'c_bool',\n",
       " 'c_buffer',\n",
       " 'c_byte',\n",
       " 'c_char',\n",
       " 'c_char_p',\n",
       " 'c_double',\n",
       " 'c_float',\n",
       " 'c_int',\n",
       " 'c_int16',\n",
       " 'c_int32',\n",
       " 'c_int64',\n",
       " 'c_int8',\n",
       " 'c_long',\n",
       " 'c_longdouble',\n",
       " 'c_longlong',\n",
       " 'c_short',\n",
       " 'c_size_t',\n",
       " 'c_ssize_t',\n",
       " 'c_ubyte',\n",
       " 'c_uint',\n",
       " 'c_uint16',\n",
       " 'c_uint32',\n",
       " 'c_uint64',\n",
       " 'c_uint8',\n",
       " 'c_ulong',\n",
       " 'c_ulonglong',\n",
       " 'c_ushort',\n",
       " 'c_void_p',\n",
       " 'c_voidp',\n",
       " 'c_wchar',\n",
       " 'c_wchar_p',\n",
       " 'cast',\n",
       " 'cdll',\n",
       " 'create_string_buffer',\n",
       " 'create_unicode_buffer',\n",
       " 'get_errno',\n",
       " 'hfo',\n",
       " 'hfo_lib',\n",
       " 'memmove',\n",
       " 'memset',\n",
       " 'np',\n",
       " 'os',\n",
       " 'pointer',\n",
       " 'py_object',\n",
       " 'pydll',\n",
       " 'pythonapi',\n",
       " 'resize',\n",
       " 'set_conversion_mode',\n",
       " 'set_errno',\n",
       " 'sizeof',\n",
       " 'string_at',\n",
       " 'util',\n",
       " 'wstring_at']"
      ]
     },
     "execution_count": 2,
     "metadata": {},
     "output_type": "execute_result"
    }
   ],
   "source": [
    "hfo."
   ]
  },
  {
   "cell_type": "code",
   "execution_count": null,
   "metadata": {
    "collapsed": true
   },
   "outputs": [],
   "source": []
  }
 ],
 "metadata": {
  "kernelspec": {
   "display_name": "Python 2",
   "language": "python",
   "name": "python2"
  },
  "language_info": {
   "codemirror_mode": {
    "name": "ipython",
    "version": 2
   },
   "file_extension": ".py",
   "mimetype": "text/x-python",
   "name": "python",
   "nbconvert_exporter": "python",
   "pygments_lexer": "ipython2",
   "version": "2.7.12"
  }
 },
 "nbformat": 4,
 "nbformat_minor": 0
}
