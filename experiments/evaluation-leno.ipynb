{
 "cells": [
  {
   "cell_type": "code",
   "execution_count": 1,
   "metadata": {
    "collapsed": false
   },
   "outputs": [
    {
     "name": "stderr",
     "output_type": "stream",
     "text": [
      "/home/leno/.conda/envs/leno/lib/python2.7/site-packages/matplotlib/font_manager.py:273: UserWarning: Matplotlib is building the font cache using fc-list. This may take a moment.\n",
      "  warnings.warn('Matplotlib is building the font cache using fc-list. This may take a moment.')\n"
     ]
    }
   ],
   "source": [
    "%matplotlib inline\n",
    "import os\n",
    "import numpy as np\n",
    "import matplotlib.pyplot as plt\n",
    "import seaborn as sns\n",
    "import pandas as pd\n",
    "from collections import defaultdict\n",
    "sns.set(style=\"darkgrid\")"
   ]
  },
  {
   "cell_type": "code",
   "execution_count": 2,
   "metadata": {
    "collapsed": false,
    "scrolled": false
   },
   "outputs": [
    {
     "name": "stdout",
     "output_type": "stream",
     "text": [
      "Could use 1 runs from expected 2\n",
      "len(evalUsedBudgets) 303 --> <type 'list'> 1\n",
      "Could use 1 runs from expected 2\n",
      "len(evalUsedBudgets) 18 --> <type 'list'> 0\n"
     ]
    },
    {
     "name": "stderr",
     "output_type": "stream",
     "text": [
      "/home/leno/.conda/envs/leno/lib/python2.7/site-packages/numpy/core/_methods.py:82: RuntimeWarning: Degrees of freedom <= 0 for slice\n",
      "  warnings.warn(\"Degrees of freedom <= 0 for slice\", RuntimeWarning)\n"
     ]
    },
    {
     "ename": "TypeError",
     "evalue": "'numpy.float64' object is not iterable",
     "output_type": "error",
     "traceback": [
      "\u001b[0;31m---------------------------------------------------------------------------\u001b[0m",
      "\u001b[0;31mTypeError\u001b[0m                                 Traceback (most recent call last)",
      "\u001b[0;32m<ipython-input-2-95fbea05cdf5>\u001b[0m in \u001b[0;36m<module>\u001b[0;34m()\u001b[0m\n\u001b[1;32m     14\u001b[0m \u001b[0mexp_utils\u001b[0m\u001b[0;34m.\u001b[0m\u001b[0mcollect_experiment_data\u001b[0m\u001b[0;34m(\u001b[0m\u001b[0msource2\u001b[0m\u001b[0;34m,\u001b[0m \u001b[0mruns\u001b[0m \u001b[0;34m=\u001b[0m \u001b[0;36m2\u001b[0m\u001b[0;34m)\u001b[0m\u001b[0;34m\u001b[0m\u001b[0m\n\u001b[1;32m     15\u001b[0m \u001b[0mexp_utils\u001b[0m\u001b[0;34m.\u001b[0m\u001b[0msummarize_experiment_data\u001b[0m\u001b[0;34m(\u001b[0m\u001b[0msource2\u001b[0m\u001b[0;34m)\u001b[0m\u001b[0;34m\u001b[0m\u001b[0m\n\u001b[0;32m---> 16\u001b[0;31m \u001b[0mexp_utils\u001b[0m\u001b[0;34m.\u001b[0m\u001b[0mcollect_experiment_data\u001b[0m\u001b[0;34m(\u001b[0m\u001b[0msource3\u001b[0m\u001b[0;34m,\u001b[0m \u001b[0mruns\u001b[0m \u001b[0;34m=\u001b[0m \u001b[0;36m2\u001b[0m\u001b[0;34m)\u001b[0m\u001b[0;34m\u001b[0m\u001b[0m\n\u001b[0m\u001b[1;32m     17\u001b[0m \u001b[0mexp_utils\u001b[0m\u001b[0;34m.\u001b[0m\u001b[0msummarize_experiment_data\u001b[0m\u001b[0;34m(\u001b[0m\u001b[0msource3\u001b[0m\u001b[0;34m)\u001b[0m\u001b[0;34m\u001b[0m\u001b[0m\n\u001b[1;32m     18\u001b[0m \u001b[0mexp_utils\u001b[0m\u001b[0;34m.\u001b[0m\u001b[0mcollect_experiment_data\u001b[0m\u001b[0;34m(\u001b[0m\u001b[0msource4\u001b[0m\u001b[0;34m,\u001b[0m \u001b[0mruns\u001b[0m \u001b[0;34m=\u001b[0m \u001b[0;36m2\u001b[0m\u001b[0;34m)\u001b[0m\u001b[0;34m\u001b[0m\u001b[0m\n",
      "\u001b[0;32m/home/leno/HFO/experiments/exp_utils.py\u001b[0m in \u001b[0;36mcollect_experiment_data\u001b[0;34m(source, runs, servers, agents)\u001b[0m\n\u001b[1;32m     38\u001b[0m                     \u001b[0;32mif\u001b[0m \u001b[0msum\u001b[0m\u001b[0;34m(\u001b[0m\u001b[0m_eub\u001b[0m\u001b[0;34m.\u001b[0m\u001b[0mshape\u001b[0m\u001b[0;34m)\u001b[0m \u001b[0;34m==\u001b[0m \u001b[0msum\u001b[0m\u001b[0;34m(\u001b[0m\u001b[0mevalTrials\u001b[0m\u001b[0;34m.\u001b[0m\u001b[0mshape\u001b[0m\u001b[0;34m)\u001b[0m\u001b[0;34m:\u001b[0m\u001b[0;34m\u001b[0m\u001b[0m\n\u001b[1;32m     39\u001b[0m                         \u001b[0mgoodRuns\u001b[0m \u001b[0;34m+=\u001b[0m \u001b[0;36m1\u001b[0m\u001b[0;34m\u001b[0m\u001b[0m\n\u001b[0;32m---> 40\u001b[0;31m                         \u001b[0;32mfor\u001b[0m \u001b[0mtrial\u001b[0m \u001b[0;32min\u001b[0m \u001b[0m_et\u001b[0m\u001b[0;34m:\u001b[0m\u001b[0;34m\u001b[0m\u001b[0m\n\u001b[0m\u001b[1;32m     41\u001b[0m                             \u001b[0mevalGoalPercentages\u001b[0m\u001b[0;34m[\u001b[0m\u001b[0;34m(\u001b[0m\u001b[0magent\u001b[0m\u001b[0;34m,\u001b[0m\u001b[0mtrial\u001b[0m\u001b[0;34m)\u001b[0m\u001b[0;34m]\u001b[0m\u001b[0;34m.\u001b[0m\u001b[0mappend\u001b[0m\u001b[0;34m(\u001b[0m\u001b[0m_egp\u001b[0m\u001b[0;34m)\u001b[0m\u001b[0;34m\u001b[0m\u001b[0m\n\u001b[1;32m     42\u001b[0m                             \u001b[0mevalGoalTimes\u001b[0m\u001b[0;34m[\u001b[0m\u001b[0;34m(\u001b[0m\u001b[0magent\u001b[0m\u001b[0;34m,\u001b[0m\u001b[0mtrial\u001b[0m\u001b[0;34m)\u001b[0m\u001b[0;34m]\u001b[0m\u001b[0;34m.\u001b[0m\u001b[0mappend\u001b[0m\u001b[0;34m(\u001b[0m\u001b[0m_egt\u001b[0m\u001b[0;34m)\u001b[0m\u001b[0;34m\u001b[0m\u001b[0m\n",
      "\u001b[0;31mTypeError\u001b[0m: 'numpy.float64' object is not iterable"
     ]
    }
   ],
   "source": [
    "#from exp_utils import collect_experiment_data, summarize_experiment_data\n",
    "import exp_utils\n",
    "#source1 = '/home/ruben/playground/HFO/experiments/EVAL/2016_09_12-14.38.02_SARSA_1_5'\n",
    "\n",
    "source1 = '/home/leno/HFO/log/AdHocTD'\n",
    "source2 = '/home/leno/HFO/log/AdHocVisit'\n",
    "source3 = '/home/leno/HFO/log/SARSATile'\n",
    "source4 = '/home/leno/HFO/log/Torrey'\n",
    "#source2 = '/home/leno/Dropbox/DO - Felipe Leno da Silva/Artigos/NovoArtigo/HFO/experiments/testResultFiles/2016_09_13-15.13.06_AdHocTD_1_10'\n",
    "#source3 = '/home/leno/Dropbox/DO - Felipe Leno da Silva/Artigos/NovoArtigo/HFO/experiments/testResultFiles/AdHocVisit'\n",
    "#source4 = '/home/leno/Dropbox/DO - Felipe Leno da Silva/Artigos/NovoArtigo/HFO/experiments/testResultFiles/2016_09_12-21.15.35_Torrey_1_20'\n",
    "exp_utils.collect_experiment_data(source1, runs = 2)\n",
    "exp_utils.summarize_experiment_data(source1)\n",
    "exp_utils.collect_experiment_data(source2, runs = 2)\n",
    "exp_utils.summarize_experiment_data(source2)\n",
    "exp_utils.collect_experiment_data(source3, runs = 2)\n",
    "exp_utils.summarize_experiment_data(source3)\n",
    "exp_utils.collect_experiment_data(source4, runs = 2)\n",
    "exp_utils.summarize_experiment_data(source4)\n",
    "\n",
    "printCI = False\n",
    "exp_utils.draw_graph(source1=source1, source2=source2, source3=source3,source4 = source4,name4=\"Torrey\", name3='SARSATile', name1=\"AdHocTD\", name2=\"AdHocVisit\", ci=printCI)\n",
    "exp_utils.draw_graph(source1=source1, source2=source2,  source3=source3,source4 = source4,name4=\"Torrey\", name3='SARSATile',name1=\"AdHocTD\", name2=\"AdHocVisit\", what=\"__SUMMARY_goaltimes\",ci=printCI)\n",
    "exp_utils.draw_graph(source1=source1, source2=source2,  source3=source3,source4 = source4,name4=\"Torrey\", name3='SARSATile',name1=\"AdHocTD\", name2=\"AdHocVisit\",what=\"__SUMMARY_budgets\",ci=printCI)\n",
    "#exp_utils.draw_graph(source1=source1, source2=source2, source3=source3, source4=source4,ci=False)\n",
    "#exp_utils.draw_graph(source1=source1, source2=source2,source3=source3,source4=source4, what=\"__SUMMARY_goaltimes\",ci=False)\n",
    "#exp_utils.draw_graph(source1=source1, source2=source2,source3=source3,source4=source4, what=\"__SUMMARY_budgets\",ci=False)"
   ]
  },
  {
   "cell_type": "code",
   "execution_count": null,
   "metadata": {
    "collapsed": true
   },
   "outputs": [],
   "source": []
  },
  {
   "cell_type": "code",
   "execution_count": null,
   "metadata": {
    "collapsed": true
   },
   "outputs": [],
   "source": []
  }
 ],
 "metadata": {
  "anaconda-cloud": {},
  "kernelspec": {
   "display_name": "Python [conda env:leno]",
   "language": "python",
   "name": "conda-env-leno-py"
  },
  "language_info": {
   "codemirror_mode": {
    "name": "ipython",
    "version": 2
   },
   "file_extension": ".py",
   "mimetype": "text/x-python",
   "name": "python",
   "nbconvert_exporter": "python",
   "pygments_lexer": "ipython2",
   "version": "2.7.12"
  }
 },
 "nbformat": 4,
 "nbformat_minor": 0
}
